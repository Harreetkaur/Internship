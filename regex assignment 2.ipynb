{
 "cells": [
  {
   "cell_type": "code",
   "execution_count": 3,
   "id": "21e41d3b",
   "metadata": {},
   "outputs": [
    {
     "name": "stdout",
     "output_type": "stream",
     "text": [
      "Python:Exercises::PHP:exercises:\n"
     ]
    }
   ],
   "source": [
    "1#Write a Python program to replace all occurrences of a space, comma, or dot with a colon.\n",
    "\n",
    "import re\n",
    "sampletext='Python Exercises, PHP exercises.'\n",
    "print(re.sub(\"[ ,.]\",\":\",sampletext))\n",
    "\n"
   ]
  },
  {
   "cell_type": "code",
   "execution_count": 28,
   "id": "f4b78aaf",
   "metadata": {},
   "outputs": [
    {
     "name": "stdout",
     "output_type": "stream",
     "text": [
      "         SUMMARY\n",
      "0    hello world\n",
      "1     XXXXX test\n",
      "2  four five six\n"
     ]
    }
   ],
   "source": [
    "2#Create a dataframe using the dictionary below and remove everything (commas (,), !, XXXX, ;, etc.) from the columns except words.\n",
    "\n",
    "import re\n",
    "import pandas as pd\n",
    "data={'SUMMARY' : ['hello, world!', 'XXXXX test', '123four, five:; six...']}\n",
    "df=pd.DataFrame(data)\n",
    "df['SUMMARY']=df['SUMMARY'].str.replace('[^a-z A-Z\\s]', '',regex=True)\n",
    "print(df)\n"
   ]
  },
  {
   "cell_type": "code",
   "execution_count": 34,
   "id": "107cd08b",
   "metadata": {},
   "outputs": [
    {
     "name": "stdout",
     "output_type": "stream",
     "text": [
      "['This', 'data']\n"
     ]
    }
   ],
   "source": [
    "3#Create a function in python to find all words that are at least 4 characters long in a string. The use of the re.compile() method is mandatory\n",
    "\n",
    "import re\n",
    "def find_words(string):\n",
    "    pattern=re.compile(r'\\b\\w{4,5}\\b')\n",
    "    matches=pattern.findall(string)\n",
    "    return matches\n",
    "string= \"This is a sample string welcome to the data trained.\"\n",
    "result=find_words(string)\n",
    "print(result)\n"
   ]
  },
  {
   "cell_type": "code",
   "execution_count": 43,
   "id": "f7b94b17",
   "metadata": {},
   "outputs": [
    {
     "name": "stdout",
     "output_type": "stream",
     "text": [
      "['Don', 'give', 'the', 'good', 'for', 'the', 'great']\n"
     ]
    }
   ],
   "source": [
    "4#Create a function in python to find all three, four, and five character words in a string. The use of the re.compile() method is mandatory.\n",
    "import re\n",
    "def find_words(string):\n",
    "    pattern=re.compile(r'\\b\\w{3,5}\\b')\n",
    "    matches=pattern.findall(string)\n",
    "    return matches\n",
    "string= \"Don't be afraid to give up the good to go for the great.\"\n",
    "result=find_words(string)\n",
    "print(result)\n"
   ]
  },
  {
   "cell_type": "code",
   "execution_count": 24,
   "id": "2426044d",
   "metadata": {},
   "outputs": [
    {
     "name": "stdout",
     "output_type": "stream",
     "text": [
      "example\n",
      "hr@fliprobo\n",
      "github\n",
      "Hello\n",
      "Data\n"
     ]
    }
   ],
   "source": [
    "5#Create a function in Python to remove the parenthesis in a list of strings. The use of the re.compile() method is mandatory.\n",
    "\n",
    "import re\n",
    "texts=\"example (.com)\", \"hr@fliprobo (.com)\", \"github (.com)\", \"Hello (Data Science World)\", \"Data (Scientist)\"\n",
    "\n",
    "for text in texts:\n",
    "    print(re.sub(r\" ?\\([^)]+\\)\", \"\", text))\n",
    "\n",
    "\n",
    "    "
   ]
  },
  {
   "cell_type": "code",
   "execution_count": null,
   "id": "0f8d43ce",
   "metadata": {},
   "outputs": [],
   "source": []
  },
  {
   "cell_type": "code",
   "execution_count": 17,
   "id": "56e2f300",
   "metadata": {},
   "outputs": [
    {
     "name": "stdout",
     "output_type": "stream",
     "text": [
      " [\"example \", \"hr@fliprobo \", \"github \", \"Hello \", \"Data \"]\n"
     ]
    }
   ],
   "source": [
    "6#Write a python program to remove the parenthesis area from the text stored in the text file using Regular Expression.\n",
    "\n",
    "import re\n",
    "\n",
    "with open('text.txt','r') as file:\n",
    "    text=file.read()\n",
    "    \n",
    "modified_text= re.sub(r'\\([^()]*\\)','',text)\n",
    "print(modified_text)\n",
    "with open('SampleText.txt', 'w')as file:\n",
    "    file.write(modified_text)\n",
    "    \n",
    "\n"
   ]
  },
  {
   "cell_type": "code",
   "execution_count": 90,
   "id": "bf46ba1d",
   "metadata": {},
   "outputs": [
    {
     "name": "stdout",
     "output_type": "stream",
     "text": [
      "['Importance', 'Of', 'Regular', 'Expressions', 'In', 'Python']\n"
     ]
    }
   ],
   "source": [
    "7#Write a regular expression in Python to split a string into uppercase letters.\n",
    "import re\n",
    "text='ImportanceOfRegularExpressionsInPython'\n",
    "print(re.findall('[A-Z][^A-Z]*', text))\n",
    "\n"
   ]
  },
  {
   "cell_type": "code",
   "execution_count": 104,
   "id": "5ad6670a",
   "metadata": {},
   "outputs": [
    {
     "name": "stdout",
     "output_type": "stream",
     "text": [
      "RegularExpression1 IsAn2 ImportantTopic3 InPython\n"
     ]
    }
   ],
   "source": [
    "8#Create a function in python to insert spaces between words starting with numbers.\n",
    "import re\n",
    "def insert_spaces(text):\n",
    " \n",
    "  pattern = r'(\\d+)([A-Z a-z]+)'\n",
    "  result = re.sub(pattern, r'\\1 \\2', text)\n",
    "  return result\n",
    "text='RegularExpression1IsAn2ImportantTopic3InPython'\n",
    "answer=insert_spaces(text)\n",
    "print(answer)"
   ]
  },
  {
   "cell_type": "code",
   "execution_count": 29,
   "id": "3602602d",
   "metadata": {},
   "outputs": [
    {
     "name": "stdout",
     "output_type": "stream",
     "text": [
      "RegularExpression 1IsAn 2ImportantTopic 3InPython\n"
     ]
    }
   ],
   "source": [
    "9#Create a function in python to insert spaces between words starting with capital letters or with numbers\n",
    "import re\n",
    "def insert_spaces(text):\n",
    "    pattern =r'([A-Z][a-z0-9]+ |\\d+)'\n",
    "    result = re.sub(pattern, r' \\1', text)\n",
    "    result=result.strip()\n",
    "    return result\n",
    "sampletext= 'RegularExpression1IsAn2ImportantTopic3InPython'\n",
    "output=insert_spaces(sampletext)\n",
    "print(output)\n",
    "\n",
    "\n",
    "    "
   ]
  },
  {
   "cell_type": "code",
   "execution_count": null,
   "id": "dffcc294",
   "metadata": {},
   "outputs": [],
   "source": []
  },
  {
   "cell_type": "code",
   "execution_count": 113,
   "id": "7193b409",
   "metadata": {},
   "outputs": [
    {
     "data": {
      "text/html": [
       "<div>\n",
       "<style scoped>\n",
       "    .dataframe tbody tr th:only-of-type {\n",
       "        vertical-align: middle;\n",
       "    }\n",
       "\n",
       "    .dataframe tbody tr th {\n",
       "        vertical-align: top;\n",
       "    }\n",
       "\n",
       "    .dataframe thead th {\n",
       "        text-align: right;\n",
       "    }\n",
       "</style>\n",
       "<table border=\"1\" class=\"dataframe\">\n",
       "  <thead>\n",
       "    <tr style=\"text-align: right;\">\n",
       "      <th></th>\n",
       "      <th>Country</th>\n",
       "      <th>Region</th>\n",
       "      <th>Happiness Rank</th>\n",
       "      <th>Happiness Score</th>\n",
       "      <th>Standard Error</th>\n",
       "      <th>Economy (GDP per Capita)</th>\n",
       "      <th>Family</th>\n",
       "      <th>Health (Life Expectancy)</th>\n",
       "      <th>Freedom</th>\n",
       "      <th>Trust (Government Corruption)</th>\n",
       "      <th>Generosity</th>\n",
       "      <th>Dystopia Residual</th>\n",
       "      <th>first_five_letters</th>\n",
       "    </tr>\n",
       "  </thead>\n",
       "  <tbody>\n",
       "    <tr>\n",
       "      <th>0</th>\n",
       "      <td>Switzerland</td>\n",
       "      <td>Western Europe</td>\n",
       "      <td>1</td>\n",
       "      <td>7.587</td>\n",
       "      <td>0.03411</td>\n",
       "      <td>1.39651</td>\n",
       "      <td>1.34951</td>\n",
       "      <td>0.94143</td>\n",
       "      <td>0.66557</td>\n",
       "      <td>0.41978</td>\n",
       "      <td>0.29678</td>\n",
       "      <td>2.51738</td>\n",
       "      <td>Switze</td>\n",
       "    </tr>\n",
       "    <tr>\n",
       "      <th>1</th>\n",
       "      <td>Iceland</td>\n",
       "      <td>Western Europe</td>\n",
       "      <td>2</td>\n",
       "      <td>7.561</td>\n",
       "      <td>0.04884</td>\n",
       "      <td>1.30232</td>\n",
       "      <td>1.40223</td>\n",
       "      <td>0.94784</td>\n",
       "      <td>0.62877</td>\n",
       "      <td>0.14145</td>\n",
       "      <td>0.43630</td>\n",
       "      <td>2.70201</td>\n",
       "      <td>Icelan</td>\n",
       "    </tr>\n",
       "    <tr>\n",
       "      <th>2</th>\n",
       "      <td>Denmark</td>\n",
       "      <td>Western Europe</td>\n",
       "      <td>3</td>\n",
       "      <td>7.527</td>\n",
       "      <td>0.03328</td>\n",
       "      <td>1.32548</td>\n",
       "      <td>1.36058</td>\n",
       "      <td>0.87464</td>\n",
       "      <td>0.64938</td>\n",
       "      <td>0.48357</td>\n",
       "      <td>0.34139</td>\n",
       "      <td>2.49204</td>\n",
       "      <td>Denmar</td>\n",
       "    </tr>\n",
       "    <tr>\n",
       "      <th>3</th>\n",
       "      <td>Norway</td>\n",
       "      <td>Western Europe</td>\n",
       "      <td>4</td>\n",
       "      <td>7.522</td>\n",
       "      <td>0.03880</td>\n",
       "      <td>1.45900</td>\n",
       "      <td>1.33095</td>\n",
       "      <td>0.88521</td>\n",
       "      <td>0.66973</td>\n",
       "      <td>0.36503</td>\n",
       "      <td>0.34699</td>\n",
       "      <td>2.46531</td>\n",
       "      <td>Norway</td>\n",
       "    </tr>\n",
       "    <tr>\n",
       "      <th>4</th>\n",
       "      <td>Canada</td>\n",
       "      <td>North America</td>\n",
       "      <td>5</td>\n",
       "      <td>7.427</td>\n",
       "      <td>0.03553</td>\n",
       "      <td>1.32629</td>\n",
       "      <td>1.32261</td>\n",
       "      <td>0.90563</td>\n",
       "      <td>0.63297</td>\n",
       "      <td>0.32957</td>\n",
       "      <td>0.45811</td>\n",
       "      <td>2.45176</td>\n",
       "      <td>Canada</td>\n",
       "    </tr>\n",
       "  </tbody>\n",
       "</table>\n",
       "</div>"
      ],
      "text/plain": [
       "       Country          Region  Happiness Rank  Happiness Score  \\\n",
       "0  Switzerland  Western Europe               1            7.587   \n",
       "1      Iceland  Western Europe               2            7.561   \n",
       "2      Denmark  Western Europe               3            7.527   \n",
       "3       Norway  Western Europe               4            7.522   \n",
       "4       Canada   North America               5            7.427   \n",
       "\n",
       "   Standard Error  Economy (GDP per Capita)   Family  \\\n",
       "0         0.03411                   1.39651  1.34951   \n",
       "1         0.04884                   1.30232  1.40223   \n",
       "2         0.03328                   1.32548  1.36058   \n",
       "3         0.03880                   1.45900  1.33095   \n",
       "4         0.03553                   1.32629  1.32261   \n",
       "\n",
       "   Health (Life Expectancy)  Freedom  Trust (Government Corruption)  \\\n",
       "0                   0.94143  0.66557                        0.41978   \n",
       "1                   0.94784  0.62877                        0.14145   \n",
       "2                   0.87464  0.64938                        0.48357   \n",
       "3                   0.88521  0.66973                        0.36503   \n",
       "4                   0.90563  0.63297                        0.32957   \n",
       "\n",
       "   Generosity  Dystopia Residual first_five_letters  \n",
       "0     0.29678            2.51738             Switze  \n",
       "1     0.43630            2.70201             Icelan  \n",
       "2     0.34139            2.49204             Denmar  \n",
       "3     0.34699            2.46531             Norway  \n",
       "4     0.45811            2.45176             Canada  "
      ]
     },
     "execution_count": 113,
     "metadata": {},
     "output_type": "execute_result"
    }
   ],
   "source": [
    "10#Use the github link below to read the data and create a dataframe. After creating the dataframe extract the first 6 letters of each country and store in the dataframe under a new column called first_five_letters.\n",
    "import re\n",
    "import pandas as pd\n",
    "url= 'https://raw.githubusercontent.com/dsrscientist/DSData/master/happiness_score_dataset.csv'\n",
    "df=pd.read_csv(url)\n",
    "df['first_five_letters']=df['Country'].apply(lambda x: x[:6])\n",
    "df.head()\n",
    "\n",
    "    "
   ]
  },
  {
   "cell_type": "code",
   "execution_count": 120,
   "id": "42f34cba",
   "metadata": {},
   "outputs": [
    {
     "name": "stdout",
     "output_type": "stream",
     "text": [
      "Not Found\n"
     ]
    }
   ],
   "source": [
    "11#Write a Python program to match a string that contains only upper and lowercase letters, numbers, and underscores.\n",
    "\n",
    "import re\n",
    "def text_matches(text):\n",
    "    pattern= '^[a-z A-Z 0-9 _]*$'\n",
    "    if re.search(pattern, text):\n",
    "        return('Found')\n",
    "    else:\n",
    "        return('Not Found')\n",
    "print(text_matches(\"Don't be afraid to give up the good to go for the great.\"))"
   ]
  },
  {
   "cell_type": "code",
   "execution_count": 123,
   "id": "fcf3f335",
   "metadata": {},
   "outputs": [
    {
     "name": "stdout",
     "output_type": "stream",
     "text": [
      "enter a stringHello john\n",
      "enter a number12\n",
      "not match\n"
     ]
    }
   ],
   "source": [
    "#12 Write a Python program where a string will start with a specific number. \n",
    "\n",
    "import re\n",
    "mystring=input('enter a string')\n",
    "mynumber=input('enter a number')\n",
    "S=re.match(mynumber,mystring)\n",
    "if S:\n",
    "    print('its a match')\n",
    "else:\n",
    "    print('not match')\n"
   ]
  },
  {
   "cell_type": "code",
   "execution_count": 30,
   "id": "d9e1bce6",
   "metadata": {},
   "outputs": [
    {
     "name": "stdout",
     "output_type": "stream",
     "text": [
      "enter a string190.332.412.214\n",
      "190.332.412.214\n"
     ]
    }
   ],
   "source": [
    "#13Write a Python program to remove leading zeros from an IP address\n",
    "\n",
    "import re\n",
    "IP=input(\"enter a string\")\n",
    "NewIP=re.sub('\\.0*','.',IP)\n",
    "print(NewIP)\n"
   ]
  },
  {
   "cell_type": "code",
   "execution_count": null,
   "id": "10dfd1c4",
   "metadata": {},
   "outputs": [],
   "source": []
  },
  {
   "cell_type": "code",
   "execution_count": 143,
   "id": "d60e9ded",
   "metadata": {},
   "outputs": [
    {
     "name": "stdout",
     "output_type": "stream",
     "text": [
      "its a match\n"
     ]
    }
   ],
   "source": [
    "#15Write a Python program to search some literals strings in a string. \n",
    "import re\n",
    "mystring=\"The quick brown fox jumps over the lazy dog.\"\n",
    "S=re.search('cat|dog|horse', mystring)\n",
    "if S:\n",
    "    print('its a match')\n",
    "else:\n",
    "    print('no match')"
   ]
  },
  {
   "cell_type": "code",
   "execution_count": 146,
   "id": "b737d935",
   "metadata": {},
   "outputs": [
    {
     "name": "stdout",
     "output_type": "stream",
     "text": [
      "its a match,starts on 15\n"
     ]
    }
   ],
   "source": [
    "#16Write a Python program to search a literals string in a string and also find the location within the original string where the pattern occurs\n",
    "\n",
    "import re\n",
    "mystring=\"The quick brown fox jumps over the lazy dog.\"\n",
    "S=re.search('\\Wfox\\W',mystring)\n",
    "if S:\n",
    "    print('its a match,starts on', S.start())\n",
    "else:\n",
    "    print('no match')\n"
   ]
  },
  {
   "cell_type": "code",
   "execution_count": 150,
   "id": "09e2f952",
   "metadata": {},
   "outputs": [
    {
     "name": "stdout",
     "output_type": "stream",
     "text": [
      "it's a match 3\n"
     ]
    }
   ],
   "source": [
    "#17Write a Python program to find the substrings within a string.\n",
    "\n",
    "import re\n",
    "mystring='Python exercises, PHP exercises, C# exercises'\n",
    "mysubstring='exercises'\n",
    "S=re.findall(mysubstring,mystring)\n",
    "if S:\n",
    "    print('it\\'s a match',len(S))\n",
    "else: \n",
    "    print('no match')\n"
   ]
  },
  {
   "cell_type": "code",
   "execution_count": 152,
   "id": "1b537a76",
   "metadata": {},
   "outputs": [
    {
     "name": "stdout",
     "output_type": "stream",
     "text": [
      "string'exercises' found a position (7, 16)\n",
      "string'exercises' found a position (22, 31)\n",
      "string'exercises' found a position (36, 45)\n"
     ]
    }
   ],
   "source": [
    "#18Write a Python program to find the occurrence and position of the substrings within a string.\n",
    "\n",
    "\n",
    "import re\n",
    "mystring='Python exercises, PHP exercises, C# exercises'\n",
    "mysubstring='exercises'\n",
    "S=re.finditer(mysubstring,mystring)\n",
    "for match in S:\n",
    "    print('string\\'{}\\''.format(mysubstring),'found a position',match.span())\n",
    "\n"
   ]
  },
  {
   "cell_type": "code",
   "execution_count": 154,
   "id": "8b6a2f82",
   "metadata": {},
   "outputs": [
    {
     "name": "stdout",
     "output_type": "stream",
     "text": [
      "31-01-2024\n"
     ]
    }
   ],
   "source": [
    "#19 Write a Python program to convert a date of yyyy-mm-dd format to dd-mm-yyyy format.\n",
    "\n",
    "import re\n",
    "date='2024-01-31'\n",
    "m=re.split('-',date)\n",
    "newdate= '-'.join(m[::-1])\n",
    "print(newdate)\n",
    "\n"
   ]
  },
  {
   "cell_type": "code",
   "execution_count": 161,
   "id": "ba42f2cb",
   "metadata": {},
   "outputs": [
    {
     "name": "stdout",
     "output_type": "stream",
     "text": [
      "['01.12', '0132.12', '2.31', '145.8', '3.01', '27.25', '0.25']\n"
     ]
    }
   ],
   "source": [
    "#20 Create a function in python to find all decimal numbers with a precision of 1 or 2 in a string. The use of the re.compile() method is mandatory.\n",
    "\n",
    "import re\n",
    "def find_decimal_numbers(string):\n",
    "    pattern= re.compile(r'\\d+\\.\\d{1,2}')\n",
    "    decimalnumbers=re.findall(pattern,string)\n",
    "    return decimalnumbers\n",
    "text=\"01.12 0132.123 2.31875 145.8 3.01 27.25 0.25\"\n",
    "output= find_decimal_numbers(text)\n",
    "print(output)\n",
    "    \n",
    "\n"
   ]
  },
  {
   "cell_type": "code",
   "execution_count": 163,
   "id": "39001e68",
   "metadata": {},
   "outputs": [
    {
     "name": "stdout",
     "output_type": "stream",
     "text": [
      "12\n",
      "Index POsition: 16\n"
     ]
    }
   ],
   "source": [
    "#21Write a Python program to separate and print the numbers and their position of a given string.\n",
    "\n",
    "import re\n",
    "text='Ron was born on 12 August and he was admitted to school.'\n",
    "for m in re.finditer('\\d+',text):\n",
    "    print(m.group(0))\n",
    "    print('Index POsition:',m.start())\n"
   ]
  },
  {
   "cell_type": "code",
   "execution_count": 173,
   "id": "78d908be",
   "metadata": {},
   "outputs": [
    {
     "name": "stdout",
     "output_type": "stream",
     "text": [
      "Maxvalue: 950\n"
     ]
    }
   ],
   "source": [
    "#22Write a regular expression in python program to extract maximum/largest numeric value from a string.\n",
    "\n",
    "import re\n",
    "\n",
    "string='My marks in each semester are: 947, 896, 926, 524, 734, 950, 642'\n",
    "\n",
    "number=re.findall('\\d+',string)\n",
    "number=map(int,number)\n",
    "print('Maxvalue:',max(number))\n",
    "\n"
   ]
  },
  {
   "cell_type": "code",
   "execution_count": 176,
   "id": "c2660a5d",
   "metadata": {},
   "outputs": [
    {
     "name": "stdout",
     "output_type": "stream",
     "text": [
      "Regular Expression Is An Important Topic In Python\n"
     ]
    }
   ],
   "source": [
    "#23Create a function in python to insert spaces between words starting with capital letters.\n",
    "\n",
    "import re\n",
    "str='RegularExpressionIsAnImportantTopicInPython'\n",
    "\n",
    "def capital_word_spaces(str):\n",
    "    return re.sub(r'(\\w)([A-Z])',r'\\1 \\2',str)\n",
    "print(capital_word_spaces(str))"
   ]
  },
  {
   "cell_type": "code",
   "execution_count": 177,
   "id": "ab1546df",
   "metadata": {},
   "outputs": [
    {
     "name": "stdout",
     "output_type": "stream",
     "text": [
      "Found a match\n"
     ]
    }
   ],
   "source": [
    "#24Python regex to find sequences of one upper case letter followed by lower case letters\n",
    "\n",
    "import re\n",
    "def text_match(text):\n",
    "    pattern = '[A-Z]+[a-z]+$'\n",
    "    if re.search(pattern,text):\n",
    "        return'Found a match'\n",
    "    else:\n",
    "        return('Not matched')\n",
    "print(text_match('Python'))    \n",
    "    "
   ]
  },
  {
   "cell_type": "code",
   "execution_count": 186,
   "id": "f5a46460",
   "metadata": {},
   "outputs": [
    {
     "name": "stdout",
     "output_type": "stream",
     "text": [
      "Hello hello world\n"
     ]
    }
   ],
   "source": [
    "#25Write a Python program to remove continuous duplicate words from Sentence using Regular Expression\n",
    "\n",
    "import re\n",
    "\n",
    "def removeDuplicatesFromText(text):\n",
    "    pattern=(r'\\b(\\w+)(\\s+\\1\\b)+')\n",
    "    result= re.sub(pattern,r'\\1', text)\n",
    "    return result\n",
    "text='Hello hello world world'\n",
    "output= removeDuplicatesFromText(text)            \n",
    "print(output)"
   ]
  },
  {
   "cell_type": "code",
   "execution_count": null,
   "id": "59b5ad62",
   "metadata": {},
   "outputs": [],
   "source": []
  },
  {
   "cell_type": "code",
   "execution_count": 188,
   "id": "86585fd2",
   "metadata": {},
   "outputs": [
    {
     "name": "stdout",
     "output_type": "stream",
     "text": [
      "C:\\Users\\MY PC\n"
     ]
    }
   ],
   "source": [
    "import os\n",
    "currentdirectory=os.getcwd()\n",
    "print(currentdirectory)"
   ]
  },
  {
   "cell_type": "code",
   "execution_count": 205,
   "id": "2c344e27",
   "metadata": {},
   "outputs": [
    {
     "name": "stdout",
     "output_type": "stream",
     "text": [
      "<re.Match object; span=(5, 21), match='August 15th 1947'>\n"
     ]
    }
   ],
   "source": [
    "#14\n",
    "import re\n",
    "with open ('Sample.txt', 'r') as file:\n",
    "    text = file.read()\n",
    "    \n",
    "pattern = r\"\\b([A-Z][a-z]+) \\d{1,2}(?:st|nd|rd|th)? \\d{4}\\b\"\n",
    "\n",
    "matches = re.search(pattern, text)\n",
    "print(matches)"
   ]
  },
  {
   "cell_type": "code",
   "execution_count": 235,
   "id": "bfbae78a",
   "metadata": {},
   "outputs": [
    {
     "name": "stdout",
     "output_type": "stream",
     "text": [
      "Enter a string: john_65\n",
      "Not found\n"
     ]
    }
   ],
   "source": [
    "#26Write a python program using RegEx to accept string ending with alphanumeric character.\n",
    "\n",
    "import re\n",
    "def check_string(string):\n",
    "    pattern = r'[a-zA-Z0-9] $'\n",
    "    matches=re.search(pattern,string)\n",
    "    if matches:\n",
    "        return True\n",
    "    else:\n",
    "        return False\n",
    "inputstring=input(\"Enter a string: \")\n",
    "if check_string(inputstring):\n",
    "    print(\"string ends with an alphanumeric character\")\n",
    "else:\n",
    "    print('Not found')\n",
    "  \n"
   ]
  },
  {
   "cell_type": "code",
   "execution_count": 3,
   "id": "d4e495e5",
   "metadata": {},
   "outputs": [
    {
     "name": "stdout",
     "output_type": "stream",
     "text": [
      "['#Doltiwal', '#xyzabc', '#Demonetization']\n"
     ]
    }
   ],
   "source": [
    "#27Write a python program using RegEx to extract the hashtags\n",
    "\n",
    "import re\n",
    "def extracthashtag(text):\n",
    "    hashtags=re.findall(r'#\\w+' , text)\n",
    "    return hashtags\n",
    "text='RT @kapil_kausik: #Doltiwal I mean #xyzabc is \"hurt\" by #Demonetization as the same has rendered USELESS <ed><U+00A0><U+00BD><ed><U+00B1><U+0089> \"acquired funds\" No wo'\n",
    "hashtags=extracthashtag(text)\n",
    "print(hashtags)"
   ]
  },
  {
   "cell_type": "code",
   "execution_count": 5,
   "id": "ef3939c1",
   "metadata": {},
   "outputs": [
    {
     "name": "stdout",
     "output_type": "stream",
     "text": [
      "\"@Jags123456 Bharat band on 28??<ed><ed>Those who  are protesting #demonetization  are all different party leaders\n"
     ]
    }
   ],
   "source": [
    "#28Write a python program using RegEx to remove <U+..> like symbols\n",
    "\n",
    "import re\n",
    "text='\"@Jags123456 Bharat band on 28??<ed><U+00A0><U+00BD><ed><U+00B8><U+0082>Those who  are protesting #demonetization  are all different party leaders'\n",
    "pattern=r'<U\\+\\w{4}>'\n",
    "Output=re.sub(pattern, '', text)\n",
    "print(Output)\n"
   ]
  },
  {
   "cell_type": "code",
   "execution_count": 7,
   "id": "fa6aac12",
   "metadata": {},
   "outputs": [
    {
     "name": "stdout",
     "output_type": "stream",
     "text": [
      "12-09-1992\n",
      "15-12-1999\n"
     ]
    }
   ],
   "source": [
    "#29Write a python program to extract dates from the text stored in the text file.\n",
    "\n",
    "import re\n",
    "with open('textsample.txt', 'r') as file:\n",
    "    text=file.read()\n",
    "pattern=r'\\d{2}-\\d{2}-\\d{4}'\n",
    " \n",
    "dates=re.findall(pattern,text)\n",
    " \n",
    "for date in dates:\n",
    "    print(date)"
   ]
  },
  {
   "cell_type": "code",
   "execution_count": null,
   "id": "4d132d7e",
   "metadata": {},
   "outputs": [],
   "source": []
  },
  {
   "cell_type": "code",
   "execution_count": 33,
   "id": "fc64d005",
   "metadata": {},
   "outputs": [
    {
     "name": "stdout",
     "output_type": "stream",
     "text": [
      " following example creates ArrayList a capacity elements. 4 elements added ArrayList ArrayList trimmed accordingly.\n"
     ]
    }
   ],
   "source": [
    "#30 Create a function in python to remove all words from a string of length between 2 and 4.\n",
    "import re\n",
    "text='The following example creates an ArrayList with a capacity of 50 elements. 4 elements are then added to the ArrayList and the ArrayList is trimmed accordingly.'\n",
    " \n",
    "word=re.compile(r'\\W*\\b\\w{2,4}\\b') \n",
    "print(word.sub(\"\", text))"
   ]
  }
 ],
 "metadata": {
  "kernelspec": {
   "display_name": "Python 3 (ipykernel)",
   "language": "python",
   "name": "python3"
  },
  "language_info": {
   "codemirror_mode": {
    "name": "ipython",
    "version": 3
   },
   "file_extension": ".py",
   "mimetype": "text/x-python",
   "name": "python",
   "nbconvert_exporter": "python",
   "pygments_lexer": "ipython3",
   "version": "3.10.9"
  }
 },
 "nbformat": 4,
 "nbformat_minor": 5
}
